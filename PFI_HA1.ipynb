{
 "cells": [
  {
   "cell_type": "markdown",
   "metadata": {
    "tags": []
   },
   "source": [
    "# Hausaufgabe 1\n",
    "## Lärmbelastung am Heimarbeitsplatz\n",
    "<!-- Lizensiert unter (CC BY 4.0) Gert Herold, 2022 -->\n",
    "\n",
    "Nach Beschwerden zahlreicher im Homeoffice arbeitender Menschen über die durch eine Dauerbaustelle auftretende Lärmbelastung wurde über mehrere Monate an Werktagen der Mittelungspegel $L_\\text{A,eq}$ an einem repräsentativen Immissionsort bestimmt und mit einer (übertriebenen) Genauigkeit von 4 Nachkommastellen abgespeichert."
   ]
  },
  {
   "cell_type": "code",
   "execution_count": 10,
   "metadata": {
    "tags": []
   },
   "outputs": [],
   "source": [
    "# Werte in dB\n",
    "LAeq = { 'Januar': [69.1217, 57.9412, 58.3591, 55.6352, 65.3270, 49.4923, 69.7241, 57.1940, 62.5952, 59.7531, 68.3105,\n",
    "                    50.6993, 59.3879, 59.0797, 66.6688, 55.5005, 60.1379, 56.6107, 61.2111, 63.9141, 55.4969],\n",
    "         'Februar': [66.7236, 65.5080, 63.5125, 65.5043, 57.5814, 60.3855, 56.3212, 59.6606, 63.6518, 57.5417,\n",
    "                     59.0162, 57.5641, 56.7740, 57.6438, 60.9367, 55.4134, 62.1721, 69.2990, 64.7102, 60.0408],\n",
    "         'März': [56.5619, 57.2642, 69.4623, 61.2540, 57.8150, 61.9546, 71.5013, 61.6008, 64.0860, 62.5009, 59.2388,\n",
    "                  55.2874, 59.2533, 59.9555, 63.9331, 65.1949, 65.6555, 62.4279, 65.4257, 57.2280, 67.2643, 63.5646],\n",
    "         'April': [59.5095, 63.4426, 60.6221, 66.6581, 68.5991, 71.9279, 54.0175, 53.7794, 58.4777, 61.8002, 65.3808,\n",
    "                   62.5782, 50.8890, 59.4690, 65.1399, 62.1505, 64.8101, 59.8884, 59.9962],\n",
    "         'Mai': [61.9328, 63.0503, 61.9915, 61.5950, 57.6467, 62.8878, 61.6091, 66.6474, 66.9946, 61.9258, 59.1236,\n",
    "                 57.8063, 63.1175, 61.3867, 59.2807, 61.2180, 57.9000, 64.4902, 58.7644, 67.1225, 63.0175],\n",
    "         'Juni': [63.9679, 55.5254, 61.8469, 64.7028, 56.2315, 59.6689, 61.1631, 54.1344, 62.5758, 65.2308, 56.7024,\n",
    "                  62.7527, 54.4386, 60.8065, 52.9211, 66.6071, 63.0445, 60.8769, 57.1242, 67.3688, 70.8355] }"
   ]
  },
  {
   "cell_type": "markdown",
   "metadata": {
    "tags": []
   },
   "source": [
    "### 1) Ausgabe für den Messbericht\n",
    "\n",
    "**Geben Sie für jeden Monat den jeweils höchsten Pegel mit einer Nachkommastelle als Fließtext an.**\n",
    " \n",
    "Beispiel:\n",
    "\n",
    "    Im August wurde ein maximaler Mittelungspegel von 71.2 dB gemessen.\n",
    "    \n",
    "*(Für einen Hinweis zur Textformatierung unter Python den ausgeblendeten Abschnitt öffnen)*"
   ]
  },
  {
   "cell_type": "code",
   "execution_count": 11,
   "metadata": {
    "tags": []
   },
   "outputs": [
    {
     "name": "stdout",
     "output_type": "stream",
     "text": [
      "0001: Eine Minute hat 60 Sekunden. Das sind   0.0167 Stunden. Eine Sekunde entspricht demnach 0.000278 Stunden.\n",
      "0002: Eine Minute hat 60 Sekunden. Das sind   0.0167 Stunden. Eine Sekunde entspricht demnach 0.000278 Stunden.\n",
      "0003: Eine Minute hat 60 Sekunden. Das sind   0.0167 Stunden. Eine Sekunde entspricht demnach 0.000278 Stunden.\n"
     ]
    }
   ],
   "source": [
    "# Hinweis: Zeichketten in Python mit formatierenden Platzhaltern -- verschiedene Wege zum gleichen Ziel\n",
    "s = 'Sekunde'\n",
    "m = 'Minute'\n",
    "h = 'Stunde'\n",
    "s_per_m = 60\n",
    "h_per_m = 1/60\n",
    "\n",
    "print('%04d: Eine %s hat %d %sn. Das sind %8.4f %sn. Eine %s entspricht demnach %.6f %sn.' % (1, m, s_per_m, s, h_per_m, h, s, h_per_m/s_per_m, h))\n",
    "print('{:04d}: Eine {} hat {} {}n. Das sind {:8.4f} {}n. Eine {} entspricht demnach {:.6f} {}n.'.format(2, m, s_per_m, s, h_per_m, h, s, h_per_m/s_per_m, h))\n",
    "print(f'{3:04d}: Eine {m} hat {s_per_m} {s}n. Das sind {h_per_m:8.4f} {h}n. Eine {s} entspricht demnach {h_per_m/s_per_m:.6f} {h}n.')"
   ]
  },
  {
   "cell_type": "code",
   "execution_count": 19,
   "metadata": {
    "tags": []
   },
   "outputs": [
    {
     "name": "stdout",
     "output_type": "stream",
     "text": [
      "Im Januar wurde ein maximaler Mittelungspegel von 69.7 dB gemessen.\n",
      "Im Februar wurde ein maximaler Mittelungspegel von 69.2 dB gemessen.\n",
      "Im März wurde ein maximaler Mittelungspegel von 71.5 dB gemessen.\n",
      "Im April wurde ein maximaler Mittelungspegel von 71.9 dB gemessen.\n",
      "Im Mai wurde ein maximaler Mittelungspegel von 67.1 dB gemessen.\n",
      "Im Juni wurde ein maximaler Mittelungspegel von 70.8 dB gemessen.\n"
     ]
    }
   ],
   "source": [
    "for month,value in LAeq.items(): #Dictionary wird durchlaufen, wobei der Variable month in jedem Durchlauf der jeweilige Key zugewiesen wird.\n",
    "    db = int(max(value) * 10) / 10 #Erzeugung einer variablen x, der als Wert das Maximum der Values des jeweiligen Monats zugewiesen wird.\n",
    "    #Wert x wird mit 10 multipliziert und in einen Integer konvertiert zum abschneiden aller ungewollten Nachkommastellen.\n",
    "    #Anschließend wird x wieder durch 10 geteilt, um den ursprünglichen Wert als Float mit einer Nachkommastelle zu erhalten\n",
    "    print('Im', month, 'wurde ein maximaler Mittelungspegel von',db, 'dB gemessen.')"
   ]
  },
  {
   "cell_type": "markdown",
   "metadata": {},
   "source": [
    "### 2) Richtwertüberschreitung\n",
    "\n",
    "  * Berechnen Sie für jeden Monat die Anzahl der Tage, an denen der [zulässige Richtwert](http://www.verwaltungsvorschriften-im-internet.de/bsvwvbund_26081998_IG19980826.htm) für urbane Gebiete von 63 dB überschritten wurde. \n",
    "  * Berechnen Sie deren prozentualen Anteil an der Gesamtzahl der Werktage im jeweiligen Monat. \n",
    "  * Geben Sie das Ergebnis tabellarisch aus.\n",
    "  * Speichern Sie außerdem für einen automatisierten Test die Anzahl für den Monat Juni in der Variable `anzahl_juni`.\n",
    "\n",
    "Beispiel:\n",
    "\n",
    "    Juli    :  6 Tage (28.6 %)\n",
    "    August  :  9 Tage (39.1 %)\n",
    "    \n",
    "<!-- Werktage Juli:21, August: 23 -->"
   ]
  },
  {
   "cell_type": "code",
   "execution_count": 21,
   "metadata": {},
   "outputs": [
    {
     "name": "stdout",
     "output_type": "stream",
     "text": [
      "Januar   :   6 Tage ( 28.5 % )\n",
      "Februar  :   7 Tage ( 35.0 % )\n",
      "März     :   9 Tage ( 40.9 % )\n",
      "April    :   7 Tage ( 36.8 % )\n",
      "Mai      :   7 Tage ( 33.3 % )\n",
      "Juni     :   7 Tage ( 33.3 % )\n"
     ]
    }
   ],
   "source": [
    "for month, value in LAeq.items(): #Durchlauf der einzelnen Monate\n",
    "    count_db = 0 #Deklaration der Zählervariable für Werktage, damit sie nach jedem Monatsdurchlauf auf 0 zurückgesetzt wird.\n",
    "    for item in value: #Durchlauf der Werte eines Monats.\n",
    "        if item > 63 : #Wenn der Richtwert überschritten wird, erhöht sich die entsprechende Zählervariable um 1.\n",
    "            count_db = count_db +1 #Zählen der Werktage.\n",
    "        if month == 'Juni': #Zusätzliches Abspeichern des Wertes für Juni\n",
    "            anzahl_juni = count_db\n",
    "    percentage = int(((count_db / len(value)) * 10 * 100)) / 10 #gleiches Vorgehen bezüglich der Nachkommastellen wie in 1), ergänzt mit einer Multiplikation mit 100 für die Angabe in Prozent.\n",
    "      \n",
    "    max_len = 0 #Zusätzlicher Programmabschnitt, um die Ausgabe in eine tabellarische Ordnung zu bringen\n",
    "    for mon_len in LAeq: #for-Schleife um den Monat mit der höchsten Wortlänge zu ermitteln (max_len wurde oben mit 0 initialisiert)\n",
    "        if len(mon_len) > max_len:\n",
    "            max_len = len(mon_len)\n",
    "    x = max_len - len(month) #für die Leerzeichen nach dem Monatsnamen\n",
    "    if nb < 10: #für die Leerzeichen nach dem Doppelpunkt\n",
    "        y = 1\n",
    "    else:\n",
    "        y = 0\n",
    "    #Die Variablen x und y bestimmen in der folgenden Ausgabe die Anzahl der nötigen Leerzeichen für die tabellarische Form\n",
    "    \n",
    "    if count_db > 0: #Es werden nur Monate ausgegeben, in denen der Richtwert überschritten wird.\n",
    "        print(month,' '*x, ':',' '*y,count_db, 'Tage (',percentage,'% )')"
   ]
  },
  {
   "cell_type": "code",
   "execution_count": 22,
   "metadata": {
    "deletable": false,
    "editable": false,
    "tags": []
   },
   "outputs": [],
   "source": [
    "# Hier ist ein Plausibilitätstest\n",
    "assert anzahl_juni < 8 "
   ]
  },
  {
   "cell_type": "markdown",
   "metadata": {},
   "source": [
    "**3. Durch intensive Maßnahmen zur Lärmminderung und -vermeidung könnte der Pegel um durchschnittlich 6 dB gesenkt werden.** \n",
    "\n",
    "3.1) Schätzen Sie basierend auf den gegebenen Werten ab, wie viele (Werk-)Tage im Jahr es noch immer zu Richtwertüberschreitungen kommen würde und geben Sie das Ergebnis aus."
   ]
  },
  {
   "cell_type": "code",
   "execution_count": 24,
   "metadata": {},
   "outputs": [
    {
     "name": "stdout",
     "output_type": "stream",
     "text": [
      "Es käme an ungefähr 14 Tagen im Jahr zu einer Richtwertüberschreitung.\n"
     ]
    }
   ],
   "source": [
    "anzahl_jahr = None # <- diese Variable sollte später die geschätzte Anzahl an Tagen im Jahr mit Richtwert-Überschreitung bei 6 dB Senkung enthalten\n",
    "\n",
    "liste_db = [] #Deklaration einer Liste, die für jeden Monat die Tage mit Richtwertüberschreitung speichert.\n",
    "for month,value in LAeq.items(): #Durchlauf der einzelnen Monate.\n",
    "    count_db = 0 #Deklaration der Zählervariable für Tage, an denen der Richtwert überschritten wird.\n",
    "    for item in value: #Durchlauf der Werte eines Monats.\n",
    "        item = item - 6 #Reduktion des Wertes um die durschnittlichen 6 dB.\n",
    "        if item > 63: #Wenn der Richtwert überschritten wird, erhöht sich die entsprechende Zählervariable um 1.\n",
    "            count_db += 1\n",
    "    liste_db.append(count_db) #Erweiterung der oben deklarierten Liste mit den Tagen mit Richtwertüberschreitung.\n",
    "am_db = sum(liste_db) / len(liste_db) #Durchschnittliche Überschreitungen pro Monat anhand der gegebenen Monate.\n",
    "anzahl_jahr = round(am_db * 12) #Hochrechnung auf ein ganzes Jahr und Runden des Wertes auf ganze Tage.\n",
    "print('Es käme an ungefähr', anzahl_jahr,'Tagen im Jahr zu einer Richtwertüberschreitung.')"
   ]
  },
  {
   "cell_type": "code",
   "execution_count": 25,
   "metadata": {
    "deletable": false,
    "editable": false,
    "tags": []
   },
   "outputs": [],
   "source": [
    "# Hier ist ein Plausibilitätstest\n",
    "assert anzahl_jahr > 10"
   ]
  },
  {
   "cell_type": "markdown",
   "metadata": {},
   "source": [
    "3.2) Wie sieht es bei 7 dB durchschnittlicher Pegelverringerung aus?"
   ]
  },
  {
   "cell_type": "code",
   "execution_count": 26,
   "metadata": {},
   "outputs": [
    {
     "name": "stdout",
     "output_type": "stream",
     "text": [
      "Es käme an ungefähr 6 Tagen im Jahr zu einer Richtwertüberschreitung.\n"
     ]
    }
   ],
   "source": [
    "anzahl_jahr = None # <- diese Variable sollte später die geschätzte Anzahl an Tagen im Jahr mit Richtwert-Überschreitung bei 7 dB Senkung enthalten\n",
    "\n",
    "liste_db = [] #Deklaration einer Liste, die für jeden Monat die Tage mit Richtwertüberschreitung speichert.\n",
    "for month,value in LAeq.items(): #Durchlauf der einzelnen Monate.\n",
    "    count_db = 0 #Deklaration der Zählervariable für Tage, an denen der Richtwert überschritten wird.\n",
    "    for item in value: #Durchlauf der Werte eines Monats.\n",
    "        item = item - 7 #Reduktion des Wertes um die durschnittlichen 7 dB.\n",
    "        if item > 63: #Wenn der Richtwert überschritten wird, erhöht sich die entsprechende Zählervariable um 1.\n",
    "            count_db += 1\n",
    "    liste_db.append(count_db) #Erweiterung der oben deklarierten Liste mit den Tagen mit Richtwertüberschreitung.\n",
    "am_db = sum(liste_db) / len(liste_db) #Durchschnittliche Überschreitungen pro Monat anhand der gegebenen Monate.\n",
    "anzahl_jahr = round(am_db * 12) #Hochrechnung auf ein ganzes Jahr und Runden des Wertes auf ganze Tage.\n",
    "print('Es käme an ungefähr', anzahl_jahr,'Tagen im Jahr zu einer Richtwertüberschreitung.')\n",
    "        "
   ]
  },
  {
   "cell_type": "code",
   "execution_count": 27,
   "metadata": {
    "deletable": false,
    "editable": false,
    "tags": []
   },
   "outputs": [],
   "source": [
    "# Hier ist ein Plausibilitätstest\n",
    "assert anzahl_jahr < 10"
   ]
  },
  {
   "cell_type": "code",
   "execution_count": null,
   "metadata": {},
   "outputs": [],
   "source": []
  },
  {
   "cell_type": "code",
   "execution_count": null,
   "metadata": {},
   "outputs": [],
   "source": []
  },
  {
   "cell_type": "code",
   "execution_count": null,
   "metadata": {},
   "outputs": [],
   "source": []
  }
 ],
 "metadata": {
  "kernelspec": {
   "display_name": "Python 3 (ipykernel)",
   "language": "python",
   "name": "python3"
  },
  "language_info": {
   "codemirror_mode": {
    "name": "ipython",
    "version": 3
   },
   "file_extension": ".py",
   "mimetype": "text/x-python",
   "name": "python",
   "nbconvert_exporter": "python",
   "pygments_lexer": "ipython3",
   "version": "3.8.13"
  }
 },
 "nbformat": 4,
 "nbformat_minor": 4
}
