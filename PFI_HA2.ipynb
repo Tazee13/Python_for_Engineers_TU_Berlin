{
 "cells": [
  {
   "cell_type": "markdown",
   "metadata": {
    "tags": []
   },
   "source": [
    "# Hausaufgabe 2\n",
    "## Ablassung eines Stausees\n",
    "<!-- Lizensiert unter (CC BY 4.0) Gert Herold, 2021 -->\n",
    "\n",
    "Wegen Reparaturarbeiten an der Staumauer einer Talsperre soll das Wasser abgelassen werden. Der See habe ein Fassungsvermögen von $215 \\cdot 10^6\\,\\text{m}^3$. Die Oberfläche des Stausees erstrecke sich über $10\\,\\text{km}^2$. Der Wasserauslass auf Grundhöhe habe einen Querschnitt von $2\\,\\text{m}^2$. Der Fluss selbst werde so umgeleitet, dass kein Wasser in den See nachfließen kann."
   ]
  },
  {
   "cell_type": "markdown",
   "metadata": {
    "tags": []
   },
   "source": [
    "### 1) Anfangsbedingungen\n",
    "\n",
    "**1.1) Es werde angenommen, die Form des Sees lasse sich mit einem umgedrehten [Kegel](https://de.wikipedia.org/wiki/Kegel_(Geometrie)) annähern. Wie tief ist dann der See?**\n",
    "\n",
    "Speichern Sie das Ergebnis (in Metern) in der Variablen `h0` und geben Sie sie aus."
   ]
  },
  {
   "cell_type": "code",
   "execution_count": 1,
   "metadata": {
    "tags": []
   },
   "outputs": [
    {
     "name": "stdout",
     "output_type": "stream",
     "text": [
      "64.5\n"
     ]
    }
   ],
   "source": [
    "h0 = None\n",
    "Volumen = 215 * (10 ** 6 ) \n",
    "Oberflache = 10 ** 7\n",
    "h0 = (3 * Volumen) / Oberflache\n",
    "print(h0)\n"
   ]
  },
  {
   "cell_type": "code",
   "execution_count": 2,
   "metadata": {
    "deletable": false,
    "editable": false,
    "tags": []
   },
   "outputs": [],
   "source": [
    "# Hier ist ein Plausibilitäts-Test:\n",
    "assert 60 < h0 < 80"
   ]
  },
  {
   "cell_type": "markdown",
   "metadata": {},
   "source": [
    "Vereinfachend werde angenommen, dass die sich ausbildende Strömung sich mithilfe der [Bernoulli-Gleichung](https://de.wikipedia.org/wiki/Bernoulli-Gleichung) beschreiben lasse:\n",
    "\n",
    "$$\n",
    "\\frac{u^2}{2}+\\frac{p}{\\rho}+g \\, z = \\text{const}\n",
    "$$\n",
    "\n",
    "Dabei beschreibt $u$ die Strömungsgeschwindigkeit des Fluids an einer beliebigen betrachteten Stelle, $p$ den hydrodynamischen Druck, $\\rho$ die Dichte und $z$ die Höhe. $g=9{,}81\\frac{\\text{m}}{\\text{s}^2}$ ist die Erdbeschleunigung. Werden nur die Seeoberfläche und der Ausfluss betrachtet, so kann der Druck $p$ ebenfalls als konstant angenommen werden, da er dem Umgebungsdruck entspricht. Ebenso wird die Dichte als konstant angenommen, und die obige Gleichung vereinfacht sich zu \n",
    "\n",
    "$$\n",
    "\\frac{u^2}{2}+g \\, z = \\text{const}\n",
    "$$\n",
    "\n",
    "bzw. für oben und unten:\n",
    "\n",
    "$$\n",
    "\\frac{u_\\text{oben}^2}{2}+g \\, z_\\text{oben} = \\frac{u_\\text{unten}^2}{2}+g \\, z_\\text{unten}\n",
    "$$"
   ]
  },
  {
   "cell_type": "markdown",
   "metadata": {},
   "source": [
    "**1.2) Berechnen Sie die sich anfangs ausbildende Strömungsgeschwindigkeit am Ausfluss $u_\\text{unten,0}$ (`u_unten0`) in m/s sowie den Volumenstrom $\\dot{V_0}$ (`Vdot0`) in m³/s unter der Annahme, dass die Bewegung der Seeoberfläche vernachlässigbar ist.**"
   ]
  },
  {
   "cell_type": "code",
   "execution_count": 12,
   "metadata": {
    "tags": []
   },
   "outputs": [],
   "source": [
    "import math # we brauchen es um sqrt Methode zu nutzen\n",
    "u_unten0 = None\n",
    "Vdot0 = None\n",
    "u_oben0 = 0\n",
    "Rohrquerschnittsflaeche = 2 \n",
    "g = 9.81 \n",
    "u_unten0 = math.sqrt(2*g*h0) # die gegebene Formel wird nach der gesuchten Größe umgestellt\n",
    "Vdot0 = u_unten0 * Rohrquerschnittsflaeche #Formel von dem Volumnstrom\n",
    "\n",
    "\n"
   ]
  },
  {
   "cell_type": "code",
   "execution_count": 13,
   "metadata": {
    "deletable": false,
    "editable": false,
    "tags": []
   },
   "outputs": [],
   "source": [
    "# Hier sind einige Plausibilitäts-Tests:\n",
    "assert u_unten0 > 30\n",
    "assert Vdot0 < 80"
   ]
  },
  {
   "cell_type": "markdown",
   "metadata": {},
   "source": [
    "Tipp: Um die Kreiszahl $\\pi$ unter Python verwenden zu können, muss man sie entweder selbst definieren oder z.B. aus dem [NumPy-Modul](https://numpy.org/) importieren. Für ein Beispiel den folgenden Code-Abschnitt öffnen."
   ]
  },
  {
   "cell_type": "code",
   "execution_count": 14,
   "metadata": {
    "tags": []
   },
   "outputs": [
    {
     "name": "stdout",
     "output_type": "stream",
     "text": [
      "Radius: 1.78 km\n"
     ]
    }
   ],
   "source": [
    "# Importiere pi aus numpy\n",
    "from numpy import pi\n",
    "A0 = Oberflache\n",
    "# Berechne den \"Radius\" der Seeoberfläche\n",
    "r0 = (A0/pi)**0.5\n",
    "print(f'Radius: {r0/1000:.2f} km')"
   ]
  },
  {
   "cell_type": "markdown",
   "metadata": {},
   "source": [
    "### 2) Leerung des Sees\n",
    "\n",
    "**2.1) Schreiben Sie eine Funktion, die die Tiefe des \"Kegel\"-Sees (in Metern) allgemein abhängig von der enthaltenen Wassermenge bestimmt.**"
   ]
  },
  {
   "cell_type": "code",
   "execution_count": 16,
   "metadata": {},
   "outputs": [],
   "source": [
    "import math\n",
    "from numpy import pi\n",
    "tiefe = 0\n",
    "def tiefe(V):\n",
    "    ratio = r0 / h0 \n",
    "    Winkel =  math.atan(ratio)# Alle größen können sich ändern aber nicht der Winkel# Alle größen können sich ändern aber nicht der Winkel\n",
    "    h =  ((3 * V)/(pi * (math.tan(Winkel) ** 2))) ** (1/3)#erstmal das Radius umstellen und danach muss in der Formel vom Volumen bestimmt werden , sodass nur h unbekannt wird \n",
    "    #und somit nach h umstellen , da V vorgegeben ist\n",
    "    return h\n",
    "    "
   ]
  },
  {
   "cell_type": "code",
   "execution_count": 17,
   "metadata": {
    "deletable": false,
    "editable": false,
    "tags": []
   },
   "outputs": [],
   "source": [
    "# Hier sind einige Plausibilitäts-Tests:\n",
    "assert abs(h0-tiefe(215e6)) < 1e-5\n",
    "assert abs(50-tiefe(1e8)) < 0.1"
   ]
  },
  {
   "cell_type": "markdown",
   "metadata": {},
   "source": [
    "**2.2) Schreiben Sie eine Funktion, die den diskreten Zeitverlauf der Wassertiefe $h(t)$ bis zur Leerung des Sees zurückgibt.**\n",
    "\n",
    "  * Die Funktion soll ein Startvolumen $V_0$ und eine Zeitschrittweite $\\Delta t$ übergeben bekommen.\n",
    "  * Verwenden Sie in den Berechnungen standardmäßig [SI-Einheiten](https://de.wikipedia.org/wiki/Internationales_Einheitensystem).\n",
    "  * Beachten Sie, dass sich auch der Volumenstrom zeitlich ändert.\n",
    "  * Die Funktion soll alle berechneten Zeiten und die jeweils zugehörigen Tiefen in zwei getrennten Listen zurückgeben.\n",
    "  \n",
    "Hinweis: Die Änderung des Volumens lässt sich annähernd über $V_{n+1}=V_n-\\dot{V_n} \\cdot \\Delta t$ beschreiben."
   ]
  },
  {
   "cell_type": "code",
   "execution_count": 29,
   "metadata": {
    "tags": []
   },
   "outputs": [],
   "source": [
    "def abfluss(V0, dt):\n",
    "    Zeiten = [] # Liste , die alle Zeiten enthält \n",
    "    Tiefen = [] # Liste , die die Veränderungen der Tiefen im Laufe der Zeit enthält \n",
    "    g = 9.81\n",
    "    zeit = 0 \n",
    "    V0 = Volumen\n",
    "    while(V0 > 0) : # Whle Schleife , die läuft solange das Volumen größer null ist\n",
    "        Zeiten.append(zeit)\n",
    "        Tiefen.append(tiefe(V0))\n",
    "        u_unten0 = math.sqrt(2*g*tiefe(V0))\n",
    "        Vdot0 = u_unten0 * 2\n",
    "        V0 -=  Vdot0 * dt # Das hier das neue Volumen , womit wird die nächste Tiefe berechnen werden \n",
    "        zeit += dt # die Zeiteinheit wird jedesmal inkrementiert um den gegebenen Wert\n",
    "    return Zeiten , Tiefen"
   ]
  },
  {
   "cell_type": "code",
   "execution_count": 30,
   "metadata": {
    "deletable": false,
    "editable": false,
    "tags": []
   },
   "outputs": [],
   "source": [
    "# Hier sind einige Plausibilitäts-Tests:\n",
    "assert len(abfluss(10,1))==2\n",
    "assert type(abfluss(10,1)[0])==type(abfluss(10,1)[1])==list"
   ]
  },
  {
   "cell_type": "markdown",
   "metadata": {},
   "source": [
    "**2.3) Wie lange dauert es, bis der Stausee komplett abgelassen wurde?** \n",
    "\n",
    "Plotten Sie den Zeitverlauf der Wassertiefe bis zur Leerung für zwei Zeitschrittweiten:\n",
    "  * $\\Delta t_1$ = 1 Minute\n",
    "  * $\\Delta t_2$ = 4 Tage\n",
    "\n",
    "**Diskutieren Sie Auffälligkeiten.**"
   ]
  },
  {
   "cell_type": "code",
   "execution_count": 31,
   "metadata": {
    "tags": []
   },
   "outputs": [
    {
     "data": {
      "image/png": "[encoded data removed]",
      "text/plain": [
       "<Figure size 432x288 with 1 Axes>"
      ]
     },
     "metadata": {
      "needs_background": "light"
     },
     "output_type": "display_data"
    },
    {
     "data": {
      "image/png": "[encoded data removed]",
      "text/plain": [
       "<Figure size 432x288 with 1 Axes>"
      ]
     },
     "metadata": {
      "needs_background": "light"
     },
     "output_type": "display_data"
    }
   ],
   "source": [
    "%matplotlib inline\n",
    "from matplotlib.pyplot import plot, show\n",
    "# Plotbefehl: plot(x_werte_liste, y_werte_liste)\n",
    "delta_1 = 60\n",
    "delta_2 = 4 * 24 * 60 * 60\n",
    "Volumen = 215 * (10 ** 6)  \n",
    "plot(abfluss(Volumen,delta_1)[0],abfluss(Volumen,delta_1)[1])\n",
    "show()\n",
    "plot(abfluss(Volumen,delta_2)[0],abfluss(Volumen,delta_2)[1]) #Graph endet hier etwas früher und bekommt einen Knick, da der See sich vor Ablauf der 4 Tage entleert\n",
    "show()\n"
   ]
  },
  {
   "cell_type": "markdown",
   "metadata": {},
   "source": [
    "### 3) Anderer See\n",
    "\n",
    "Wiederholen Sie Aufgabenteil 2.3) unter der Annahme, dass der See bei gleichem Volumen und gleicher Oberfläche annähernd durch einen *Zylinder* beschrieben wird. Schreiben Sie hierfür möglichst wenig neuen Code."
   ]
  },
  {
   "cell_type": "code",
   "execution_count": 32,
   "metadata": {},
   "outputs": [
    {
     "data": {
      "image/png": "[encoded data removed]",
      "text/plain": [
       "<Figure size 432x288 with 1 Axes>"
      ]
     },
     "metadata": {
      "needs_background": "light"
     },
     "output_type": "display_data"
    },
    {
     "data": {
      "image/png": "[encoded data removed]",
      "text/plain": [
       "<Figure size 432x288 with 1 Axes>"
      ]
     },
     "metadata": {
      "needs_background": "light"
     },
     "output_type": "display_data"
    }
   ],
   "source": [
    "def tiefe_Zylinder(V):\n",
    "    h = V / Oberflache # Anders als beim Kegel hier bleibt die Oberfläche fest. V = h * Oberfläche\n",
    "    return h\n",
    "def abfluss_Zylinder(V0, dt):\n",
    "    Zeiten = []\n",
    "    Tiefen = []\n",
    "    g = 9.81\n",
    "    zeit = 0 \n",
    "    V0 = Volumen\n",
    "    while(V0 > 0) : \n",
    "        Zeiten.append(zeit)\n",
    "        Tiefen.append(tiefe_Zylinder(V0))\n",
    "        u_unten0 = math.sqrt(2*g*tiefe_Zylinder(V0)) # wir nutzen hier dir Tiefe methode vom Zylinder\n",
    "        Vdot0 = u_unten0 * 2\n",
    "        V0 -=  Vdot0 * dt \n",
    "        zeit += dt\n",
    "    return Zeiten , Tiefen\n",
    "\n",
    "plot(abfluss_Zylinder(Volumen,delta_1)[0],abfluss_Zylinder(Volumen,delta_1)[1])\n",
    "show()\n",
    "plot(abfluss_Zylinder(Volumen,delta_2)[0],abfluss_Zylinder(Volumen,delta_2)[1])\n",
    "show()\n",
    "\n",
    "\n",
    "\n"
   ]
  },
  {
   "cell_type": "code",
   "execution_count": null,
   "metadata": {},
   "outputs": [],
   "source": []
  },
  {
   "cell_type": "code",
   "execution_count": null,
   "metadata": {},
   "outputs": [],
   "source": []
  }
 ],
 "metadata": {
  "kernelspec": {
   "display_name": "Python 3 (ipykernel)",
   "language": "python",
   "name": "python3"
  },
  "language_info": {
   "codemirror_mode": {
    "name": "ipython",
    "version": 3
   },
   "file_extension": ".py",
   "mimetype": "text/x-python",
   "name": "python",
   "nbconvert_exporter": "python",
   "pygments_lexer": "ipython3",
   "version": "3.8.13"
  }
 },
 "nbformat": 4,
 "nbformat_minor": 4
}
